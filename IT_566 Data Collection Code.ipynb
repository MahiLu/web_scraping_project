{
 "cells": [
  {
   "cell_type": "code",
   "execution_count": 1,
   "metadata": {},
   "outputs": [],
   "source": [
    "from psaw import PushshiftAPI\n",
    "import pandas as pd\n",
    "import numpy as np\n",
    "import datetime as dt\n",
    "import re\n",
    "import warnings\n",
    "warnings.filterwarnings(\"ignore\")"
   ]
  },
  {
   "cell_type": "code",
   "execution_count": 2,
   "metadata": {},
   "outputs": [],
   "source": [
    "api = PushshiftAPI()\n",
    "def scrape (start_epoch, end_epoch, file):\n",
    "    api_request_generator1 = api.search_comments(q='anti-vaccination', after = start_epoch, before=end_epoch)\n",
    "    api_request_generator2 = api.search_comments(q='anti-vaccine', after = start_epoch, before=end_epoch)\n",
    "    api_request_generator3 = api.search_comments(q='anti-vax', after = start_epoch, before=end_epoch)\n",
    "\n",
    "    comments = pd.DataFrame([comment.d_ for comment in api_request_generator1])\n",
    "    comments.append(pd.DataFrame([comment.d_ for comment in api_request_generator2]))\n",
    "    comments.append(pd.DataFrame([comment.d_ for comment in api_request_generator3]))\n",
    "    comments.to_csv(file)"
   ]
  },
  {
   "cell_type": "code",
   "execution_count": 3,
   "metadata": {},
   "outputs": [],
   "source": [
    "#February 2021\n",
    "start_epoch=int(dt.datetime(2021, 2, 1).timestamp())\n",
    "end_epoch=int(dt.datetime(2021, 2, 28).timestamp())\n",
    "file='feb21.csv'\n",
    "scrape(start_epoch,end_epoch, file)"
   ]
  },
  {
   "cell_type": "code",
   "execution_count": 4,
   "metadata": {},
   "outputs": [],
   "source": [
    "#February 2020\n",
    "start_epoch=int(dt.datetime(2020, 2, 1).timestamp())\n",
    "end_epoch=int(dt.datetime(2020, 2, 28).timestamp())\n",
    "file='feb20.csv'\n",
    "scrape(start_epoch,end_epoch, file)"
   ]
  },
  {
   "cell_type": "code",
   "execution_count": 5,
   "metadata": {},
   "outputs": [],
   "source": [
    "#February 2019\n",
    "start_epoch=int(dt.datetime(2019, 2, 1).timestamp())\n",
    "end_epoch=int(dt.datetime(2019, 2, 28).timestamp())\n",
    "file='feb19.csv'\n",
    "scrape(start_epoch,end_epoch, file)\n"
   ]
  },
  {
   "cell_type": "code",
   "execution_count": 6,
   "metadata": {},
   "outputs": [],
   "source": [
    "#March 2021\n",
    "start_epoch=int(dt.datetime(2021, 3, 1).timestamp())\n",
    "end_epoch=int(dt.datetime(2021, 3, 31).timestamp())\n",
    "file='mar21.csv'\n",
    "scrape(start_epoch,end_epoch, file)"
   ]
  },
  {
   "cell_type": "code",
   "execution_count": 7,
   "metadata": {},
   "outputs": [],
   "source": [
    "#March 2020\n",
    "start_epoch=int(dt.datetime(2020, 3, 1).timestamp())\n",
    "end_epoch=int(dt.datetime(2020, 3, 31).timestamp())\n",
    "file='mar20.csv'\n",
    "scrape(start_epoch,end_epoch, file)"
   ]
  },
  {
   "cell_type": "code",
   "execution_count": 8,
   "metadata": {},
   "outputs": [],
   "source": [
    "#March 2019\n",
    "start_epoch=int(dt.datetime(2019, 3, 1).timestamp())\n",
    "end_epoch=int(dt.datetime(2019, 3, 31).timestamp())\n",
    "file='mar19.csv'\n",
    "scrape(start_epoch,end_epoch, file)"
   ]
  },
  {
   "cell_type": "code",
   "execution_count": 9,
   "metadata": {},
   "outputs": [],
   "source": [
    "#April 2021\n",
    "start_epoch=int(dt.datetime(2021, 4, 1).timestamp())\n",
    "end_epoch=int(dt.datetime(2021, 4, 30).timestamp())\n",
    "file='apr21.csv'\n",
    "scrape(start_epoch,end_epoch, file)"
   ]
  },
  {
   "cell_type": "code",
   "execution_count": 10,
   "metadata": {},
   "outputs": [],
   "source": [
    "#April 2020\n",
    "start_epoch=int(dt.datetime(2020, 4, 1).timestamp())\n",
    "end_epoch=int(dt.datetime(2020, 4, 30).timestamp())\n",
    "file='apr20.csv'\n",
    "scrape(start_epoch,end_epoch, file)"
   ]
  },
  {
   "cell_type": "code",
   "execution_count": 11,
   "metadata": {},
   "outputs": [],
   "source": [
    "#April 2019\n",
    "start_epoch=int(dt.datetime(2019, 4, 1).timestamp())\n",
    "end_epoch=int(dt.datetime(2019, 4, 30).timestamp())\n",
    "file='apr19.csv'\n",
    "scrape(start_epoch,end_epoch, file)"
   ]
  },
  {
   "cell_type": "code",
   "execution_count": 12,
   "metadata": {},
   "outputs": [],
   "source": [
    "def readfile(file):\n",
    "    with open (file, encoding='utf8') as anti_vaccination:\n",
    "        result=anti_vaccination.read()\n",
    "    \n",
    "    Result_1=re.findall(r'\\w*covid|anti-vaccination|anti-vaccine|anti-vax\\w*',result)\n",
    "    return len(Result_1)"
   ]
  },
  {
   "cell_type": "code",
   "execution_count": 13,
   "metadata": {},
   "outputs": [],
   "source": [
    "files = ['feb21.csv','feb20.csv','feb19.csv','mar21.csv','mar20.csv','mar19.csv','apr21.csv','apr20.csv','apr19.csv']\n",
    "results=[]\n",
    "for file in files:\n",
    "    res=readfile(file)\n",
    "    results.append(res)"
   ]
  },
  {
   "cell_type": "code",
   "execution_count": 18,
   "metadata": {},
   "outputs": [
    {
     "data": {
      "text/html": [
       "<div>\n",
       "<style scoped>\n",
       "    .dataframe tbody tr th:only-of-type {\n",
       "        vertical-align: middle;\n",
       "    }\n",
       "\n",
       "    .dataframe tbody tr th {\n",
       "        vertical-align: top;\n",
       "    }\n",
       "\n",
       "    .dataframe thead th {\n",
       "        text-align: right;\n",
       "    }\n",
       "</style>\n",
       "<table border=\"1\" class=\"dataframe\">\n",
       "  <thead>\n",
       "    <tr style=\"text-align: right;\">\n",
       "      <th></th>\n",
       "      <th>Months</th>\n",
       "      <th>results</th>\n",
       "    </tr>\n",
       "  </thead>\n",
       "  <tbody>\n",
       "    <tr>\n",
       "      <th>0</th>\n",
       "      <td>Feb 2021</td>\n",
       "      <td>1428</td>\n",
       "    </tr>\n",
       "    <tr>\n",
       "      <th>1</th>\n",
       "      <td>Mar 2021</td>\n",
       "      <td>917</td>\n",
       "    </tr>\n",
       "    <tr>\n",
       "      <th>2</th>\n",
       "      <td>Apr 2021</td>\n",
       "      <td>3416</td>\n",
       "    </tr>\n",
       "    <tr>\n",
       "      <th>3</th>\n",
       "      <td>Feb 2020</td>\n",
       "      <td>1576</td>\n",
       "    </tr>\n",
       "    <tr>\n",
       "      <th>4</th>\n",
       "      <td>Mar 2020</td>\n",
       "      <td>899</td>\n",
       "    </tr>\n",
       "    <tr>\n",
       "      <th>5</th>\n",
       "      <td>Apr 2020</td>\n",
       "      <td>2536</td>\n",
       "    </tr>\n",
       "    <tr>\n",
       "      <th>6</th>\n",
       "      <td>Feb 2019</td>\n",
       "      <td>3064</td>\n",
       "    </tr>\n",
       "    <tr>\n",
       "      <th>7</th>\n",
       "      <td>Mar 2019</td>\n",
       "      <td>1528</td>\n",
       "    </tr>\n",
       "    <tr>\n",
       "      <th>8</th>\n",
       "      <td>Apr 2019</td>\n",
       "      <td>1602</td>\n",
       "    </tr>\n",
       "  </tbody>\n",
       "</table>\n",
       "</div>"
      ],
      "text/plain": [
       "     Months  results\n",
       "0  Feb 2021     1428\n",
       "1  Mar 2021      917\n",
       "2  Apr 2021     3416\n",
       "3  Feb 2020     1576\n",
       "4  Mar 2020      899\n",
       "5  Apr 2020     2536\n",
       "6  Feb 2019     3064\n",
       "7  Mar 2019     1528\n",
       "8  Apr 2019     1602"
      ]
     },
     "execution_count": 18,
     "metadata": {},
     "output_type": "execute_result"
    }
   ],
   "source": [
    "Months = ['Feb 2021','Mar 2021','Apr 2021','Feb 2020','Mar 2020','Apr 2020','Feb 2019','Mar 2019','Apr 2019',]\n",
    "df= pd.DataFrame(list(zip(Months, results)), columns =['Months', 'results'])\n",
    "df"
   ]
  },
  {
   "cell_type": "code",
   "execution_count": null,
   "metadata": {},
   "outputs": [],
   "source": []
  }
 ],
 "metadata": {
  "kernelspec": {
   "display_name": "Python 3 (ipykernel)",
   "language": "python",
   "name": "python3"
  },
  "language_info": {
   "codemirror_mode": {
    "name": "ipython",
    "version": 3
   },
   "file_extension": ".py",
   "mimetype": "text/x-python",
   "name": "python",
   "nbconvert_exporter": "python",
   "pygments_lexer": "ipython3",
   "version": "3.8.5"
  }
 },
 "nbformat": 4,
 "nbformat_minor": 4
}
